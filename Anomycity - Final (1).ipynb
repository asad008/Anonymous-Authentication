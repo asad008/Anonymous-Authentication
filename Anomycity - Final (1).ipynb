{
 "cells": [
  {
   "cell_type": "code",
   "execution_count": 1,
   "metadata": {},
   "outputs": [],
   "source": [
    "from primePy import primes\n",
    "import math\n",
    "from Cryptodome.Util import number\n",
    "import os; \n",
    "import bcrypt\n",
    "import numpy as np\n",
    "import random\n",
    "import string"
   ]
  },
  {
   "cell_type": "markdown",
   "metadata": {},
   "source": [
    "Client"
   ]
  },
  {
   "cell_type": "code",
   "execution_count": 2,
   "metadata": {},
   "outputs": [
    {
     "data": {
      "text/plain": [
       "[171706577441164219972116255038217951181,\n",
       " 193094947401761565917675032520109195178,\n",
       " 123456789987654321123456789,\n",
       " 176211881619745060555125841988246655784,\n",
       " 182760048917851559352048725914039271502,\n",
       " 178565638235297019073376484856732760730]"
      ]
     },
     "execution_count": 2,
     "metadata": {},
     "output_type": "execute_result"
    }
   ],
   "source": [
    "D = []\n",
    "\n",
    "UserID = int(input(\"Enter User Id:\"))\n",
    "pos = int(input(\"Enter Position:\"))\n",
    "for i in range(0,5):\n",
    "    n = number.getRandomNBitInteger(128,os.urandom)\n",
    "    D.append(n)\n",
    "D.insert(pos,UserID)\n",
    "D"
   ]
  },
  {
   "cell_type": "code",
   "execution_count": 3,
   "metadata": {},
   "outputs": [],
   "source": [
    "# f = number.getRandomNBitInteger(128,os.urandom)\n",
    "# D.insert(3, f)\n",
    "# D,f"
   ]
  },
  {
   "cell_type": "code",
   "execution_count": 4,
   "metadata": {},
   "outputs": [
    {
     "name": "stdout",
     "output_type": "stream",
     "text": [
      "[315944751227500688385683253885298249899, 251448747875005759117555148319667170636, 214114327324558249496399187902194802396, 226158125365915861876452726317756745845, 206759090953762163188153517911131868023, 243555862637624662713614610079888055689]\n"
     ]
    }
   ],
   "source": [
    "P = []\n",
    "for i in range(0,len(D)):\n",
    "    n = number.getRandomNBitInteger(128,os.urandom)\n",
    "    P.append(n)\n",
    "print(P)"
   ]
  },
  {
   "cell_type": "code",
   "execution_count": 5,
   "metadata": {},
   "outputs": [
    {
     "data": {
      "text/plain": [
       "226158125365915861876452726317756745845"
      ]
     },
     "execution_count": 5,
     "metadata": {},
     "output_type": "execute_result"
    }
   ],
   "source": [
    "x=P[3]\n",
    "x"
   ]
  },
  {
   "cell_type": "code",
   "execution_count": 6,
   "metadata": {},
   "outputs": [
    {
     "name": "stdout",
     "output_type": "stream",
     "text": [
      "242506756831409137677198575546118278525\n",
      "[31910516797050333795663121759089947840161322841238991475, 543547648703524060282663202842313559135007584636622570825, 175833206642066539404055171398364398412585736153653560950, 336989308328013515854381547330110869951294181107038253650, 365459251808484788987723921454489027527174364739346679325, 215771262080475205752394733509688273662264346729632054100]\n"
     ]
    }
   ],
   "source": [
    "K= number.getRandomNBitInteger(128,os.urandom)\n",
    "print(K)\n",
    "pb=[]\n",
    "for i in range(0,len(P)):\n",
    "    t= hash(P[i])*K\n",
    "    pb.append(t)\n",
    "print(pb)\n"
   ]
  },
  {
   "cell_type": "code",
   "execution_count": 7,
   "metadata": {},
   "outputs": [
    {
     "data": {
      "text/plain": [
       "187665801206214570063298131993126715861"
      ]
     },
     "execution_count": 7,
     "metadata": {},
     "output_type": "execute_result"
    }
   ],
   "source": [
    "r = number.getRandomNBitInteger(128,os.urandom)\n",
    "r"
   ]
  },
  {
   "cell_type": "code",
   "execution_count": 8,
   "metadata": {},
   "outputs": [
    {
     "data": {
      "text/plain": [
       "[31910516797050333980649034794970419692222058702457254822,\n",
       " 543547648703524060108777929899171343575293567719644120220,\n",
       " 175833206642066539251095250475887977179627129908757825443,\n",
       " 336989308328013515677786292364861939138835116976267473799,\n",
       " 365459251808484789140797896862922128628068691768009525192,\n",
       " 215771262080475205575363085398589518936986283160503483009]"
      ]
     },
     "execution_count": 8,
     "metadata": {},
     "output_type": "execute_result"
    }
   ],
   "source": [
    "q=[]\n",
    "for i in range(0,len(pb)):\n",
    "    q.append(pb[i]^r)\n",
    "q"
   ]
  },
  {
   "cell_type": "code",
   "execution_count": 9,
   "metadata": {},
   "outputs": [
    {
     "data": {
      "text/plain": [
       "244341691826933662009437285264609743212009808882680330075"
      ]
     },
     "execution_count": 9,
     "metadata": {},
     "output_type": "execute_result"
    }
   ],
   "source": [
    "rb=hash(r)*K\n",
    "rb"
   ]
  },
  {
   "cell_type": "code",
   "execution_count": 10,
   "metadata": {},
   "outputs": [
    {
     "data": {
      "text/plain": [
       "([315944751227500688385683253885298249899,\n",
       "  251448747875005759117555148319667170636,\n",
       "  214114327324558249496399187902194802396,\n",
       "  226158125365915861876452726317756745845,\n",
       "  206759090953762163188153517911131868023,\n",
       "  243555862637624662713614610079888055689],\n",
       " 242506756831409137677198575546118278525,\n",
       " 244341691826933662009437285264609743212009808882680330075)"
      ]
     },
     "execution_count": 10,
     "metadata": {},
     "output_type": "execute_result"
    }
   ],
   "source": [
    "P,K,rb"
   ]
  },
  {
   "cell_type": "code",
   "execution_count": 11,
   "metadata": {},
   "outputs": [
    {
     "data": {
      "text/plain": [
       "336989308328013515677786292364861939138835116976267473799"
      ]
     },
     "execution_count": 11,
     "metadata": {},
     "output_type": "execute_result"
    }
   ],
   "source": [
    "cp=q[3]\n",
    "cp"
   ]
  },
  {
   "cell_type": "code",
   "execution_count": 12,
   "metadata": {},
   "outputs": [
    {
     "data": {
      "text/plain": [
       "336989308328013515854381547330110869951294181107038253650"
      ]
     },
     "execution_count": 12,
     "metadata": {},
     "output_type": "execute_result"
    }
   ],
   "source": [
    "pbd=hash(x)*K\n",
    "pbd"
   ]
  },
  {
   "cell_type": "code",
   "execution_count": 13,
   "metadata": {},
   "outputs": [
    {
     "data": {
      "text/plain": [
       "187665801206214570063298131993126715861"
      ]
     },
     "execution_count": 13,
     "metadata": {},
     "output_type": "execute_result"
    }
   ],
   "source": [
    "rd=cp^pbd\n",
    "rd"
   ]
  },
  {
   "cell_type": "code",
   "execution_count": 14,
   "metadata": {},
   "outputs": [
    {
     "data": {
      "text/plain": [
       "244341691826933662009437285264609743212009808882680330075"
      ]
     },
     "execution_count": 14,
     "metadata": {},
     "output_type": "execute_result"
    }
   ],
   "source": [
    "rbd=hash(rd)*K\n",
    "rbd"
   ]
  },
  {
   "cell_type": "code",
   "execution_count": 15,
   "metadata": {},
   "outputs": [
    {
     "name": "stdout",
     "output_type": "stream",
     "text": [
      "True\n"
     ]
    }
   ],
   "source": [
    "print(rbd==rb)"
   ]
  },
  {
   "cell_type": "code",
   "execution_count": 16,
   "metadata": {},
   "outputs": [
    {
     "data": {
      "text/plain": [
       "True"
      ]
     },
     "execution_count": 16,
     "metadata": {},
     "output_type": "execute_result"
    }
   ],
   "source": [
    "rd==r"
   ]
  }
 ],
 "metadata": {
  "kernelspec": {
   "display_name": "Python 3.10.8 64-bit",
   "language": "python",
   "name": "python3"
  },
  "language_info": {
   "codemirror_mode": {
    "name": "ipython",
    "version": 3
   },
   "file_extension": ".py",
   "mimetype": "text/x-python",
   "name": "python",
   "nbconvert_exporter": "python",
   "pygments_lexer": "ipython3",
   "version": "3.10.8 (tags/v3.10.8:aaaf517, Oct 11 2022, 16:50:30) [MSC v.1933 64 bit (AMD64)]"
  },
  "orig_nbformat": 4,
  "vscode": {
   "interpreter": {
    "hash": "a9cff5a362bc38ef45d817ae74b1af54d6a076e3d773891282bce078b815ba34"
   }
  }
 },
 "nbformat": 4,
 "nbformat_minor": 2
}
